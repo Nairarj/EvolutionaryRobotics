{
  "nbformat": 4,
  "nbformat_minor": 0,
  "metadata": {
    "colab": {
      "provenance": [],
      "authorship_tag": "ABX9TyOvXR6WTW+p0K24azTcT3uI",
      "include_colab_link": true
    },
    "kernelspec": {
      "name": "python3",
      "display_name": "Python 3"
    },
    "language_info": {
      "name": "python"
    }
  },
  "cells": [
    {
      "cell_type": "markdown",
      "metadata": {
        "id": "view-in-github",
        "colab_type": "text"
      },
      "source": [
        "<a href=\"https://colab.research.google.com/github/Nairarj/EvolutionaryRobotics/blob/neurons/analyze_py.ipynb\" target=\"_parent\"><img src=\"https://colab.research.google.com/assets/colab-badge.svg\" alt=\"Open In Colab\"/></a>"
      ]
    },
    {
      "cell_type": "code",
      "execution_count": null,
      "metadata": {
        "id": "c-lP6KGS6Udx"
      },
      "outputs": [],
      "source": [
        "import numpy\n",
        "import matplotlib.pyplot as plt\n",
        "\n",
        "backLegSensorValues = numpy.load('data/sensorsVal1.npy')\n",
        "frontLegSensorValues = numpy.load('data/sensorsVal2.npy')\n",
        "targetAngleValues = numpy.load('data/targetAngles.npy')\n",
        "print(backLegSensorValues)\n",
        "print(frontLegSensorValues)\n",
        "plt.plot(TargetAngleValues, linewidth = 2.0)\n",
        "plt.show()"
      ]
    }
  ]
}