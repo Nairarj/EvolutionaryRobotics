{
  "nbformat": 4,
  "nbformat_minor": 0,
  "metadata": {
    "colab": {
      "provenance": [],
      "authorship_tag": "ABX9TyMmHtQ7hRKhFJjEvIKsNKU4",
      "include_colab_link": true
    },
    "kernelspec": {
      "name": "python3",
      "display_name": "Python 3"
    },
    "language_info": {
      "name": "python"
    }
  },
  "cells": [
    {
      "cell_type": "markdown",
      "metadata": {
        "id": "view-in-github",
        "colab_type": "text"
      },
      "source": [
        "<a href=\"https://colab.research.google.com/github/Nairarj/EvolutionaryRobotics/blob/neurons/constants_py.ipynb\" target=\"_parent\"><img src=\"https://colab.research.google.com/assets/colab-badge.svg\" alt=\"Open In Colab\"/></a>"
      ]
    },
    {
      "cell_type": "code",
      "execution_count": null,
      "metadata": {
        "id": "UMTBM0ib__mF"
      },
      "outputs": [],
      "source": [
        "\n",
        "import constants as c\n",
        "\n",
        "#constants.py\n",
        "iterations = 1000\n",
        "backAmplitude = np.pi / 8\n",
        "backFrequency = 5\n",
        "backPhaseOffset = 0\n",
        "\n",
        "\n",
        "frontAmplitude = np.pi / 4\n",
        "frontFrequency = 5\n",
        "frontPhaseOffset = np.pi/2\n"
      ]
    }
  ]
}