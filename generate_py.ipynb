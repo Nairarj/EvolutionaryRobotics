{
  "nbformat": 4,
  "nbformat_minor": 0,
  "metadata": {
    "colab": {
      "provenance": [],
      "authorship_tag": "ABX9TyOeBqeItz5dtdijdmn3+XV8",
      "include_colab_link": true
    },
    "kernelspec": {
      "name": "python3",
      "display_name": "Python 3"
    },
    "language_info": {
      "name": "python"
    }
  },
  "cells": [
    {
      "cell_type": "markdown",
      "metadata": {
        "id": "view-in-github",
        "colab_type": "text"
      },
      "source": [
        "<a href=\"https://colab.research.google.com/github/Nairarj/EvolutionaryRobotics/blob/neurons/generate_py.ipynb\" target=\"_parent\"><img src=\"https://colab.research.google.com/assets/colab-badge.svg\" alt=\"Open In Colab\"/></a>"
      ]
    },
    {
      "cell_type": "code",
      "execution_count": null,
      "metadata": {
        "id": "chfvc4vj4JWA"
      },
      "outputs": [],
      "source": [
        "import pyrosim.pyrosim as pyrosim\n",
        "\n",
        "#generate.py\n",
        "#Create World function in generate.py\n",
        "def Create_World():\n",
        "  pyrosim.Start_SDF(\"object.sdf\")\n",
        "  pyrosim.End()\n",
        "\n",
        "#Create Robot function in generate.py\n",
        "def Create_Robot():\n",
        "\n",
        "  #vertical_offset = 1.0\n",
        "  pyrosim.Start_URDF(\"body.urdf\")\n",
        "  pyrosim.Send_Cube(name=\"Torso\", pos=[1.5, 0, 1.5], size=[width, length, height])\n",
        "  pyrosim.Send_Joint( name = \"Torso_BackLeg\" , parent= \"Torso\" , child = \"BackLeg\" , type = \"revolute\", position = [1.0,0,1.0])\n",
        "  pyrosim.Send_Cube(name=\"BackLeg\", pos=[-0.5, 0, -0.5], size=[width, length, height])\n",
        "  pyrosim.Send_Joint(name = \"Torso_FrontLeg\" , parent= \"Torso\" , child = \"FrontLeg\" , type = \"revolute\", position = [2.0,0,1.0])\n",
        "  pyrosim.Send_Cube(name=\"FrontLeg\", pos=[0.5, 0, -0.5], size=[width, length, height])\n",
        "  pyrosim.End()\n",
        "\n",
        "\n",
        "length = 1.0\n",
        "width = 1.0\n",
        "height = 1.0\n",
        "\n",
        "Create_World()\n",
        "Create_Robot()\n"
      ]
    }
  ]
}