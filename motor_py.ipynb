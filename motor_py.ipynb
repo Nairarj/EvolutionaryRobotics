{
  "nbformat": 4,
  "nbformat_minor": 0,
  "metadata": {
    "colab": {
      "provenance": [],
      "authorship_tag": "ABX9TyOuJBpP09sty8/AgrsDVkeA",
      "include_colab_link": true
    },
    "kernelspec": {
      "name": "python3",
      "display_name": "Python 3"
    },
    "language_info": {
      "name": "python"
    }
  },
  "cells": [
    {
      "cell_type": "markdown",
      "metadata": {
        "id": "view-in-github",
        "colab_type": "text"
      },
      "source": [
        "<a href=\"https://colab.research.google.com/github/Nairarj/EvolutionaryRobotics/blob/neurons/motor_py.ipynb\" target=\"_parent\"><img src=\"https://colab.research.google.com/assets/colab-badge.svg\" alt=\"Open In Colab\"/></a>"
      ]
    },
    {
      "cell_type": "code",
      "execution_count": null,
      "metadata": {
        "id": "GX8yUwVVIl3T"
      },
      "outputs": [],
      "source": [
        "#import statements\n",
        "import pybullet as p\n",
        "import pybullet_data\n",
        "import pyrosim.pyrosim as pyrosim\n",
        "import numpy\n",
        "import constants as c\n",
        "\n",
        "from robot import ROBOT\n",
        "\n",
        "\n",
        "#motor.py\n",
        "class MOTOR:\n",
        "\n",
        "  def __init__(self, jointName):\n",
        "\n",
        "      # Save the joint name in the instance.\n",
        "      self.jointName = jointName\n",
        "      # Prepare the motor (its control vector and parameters).\n",
        "      self.Prepare_To_Act()\n",
        "\n",
        "  def Prepare_To_Act(self):\n",
        "\n",
        "      # Set the motor's amplitude, frequency, and phase offset.\n",
        "      self.amplitude = backAmplitude\n",
        "      self.frequency = backFrequency\n",
        "      self.offset = backPhaseOffset\n",
        "\n",
        "\n",
        "      # Modify the frequency for one motor based on its joint name.\n",
        "      # For example, if the joint is \"Torso_BackLeg\", let it oscillate at half the frequency.\n",
        "      if self.jointName == b\"Torso_BackLeg\":\n",
        "          freq = self.frequency / 2.0\n",
        "      else:\n",
        "          freq = self.frequency\n",
        "\n",
        "      # Create a vector for storing motor command values.\n",
        "      self.motorValues = np.zeros(iterations)\n",
        "      # Compute motor command values for every time step.\n",
        "      for t in range(iterations):\n",
        "          self.motorValues[t] = self.amplitude * np.sin(\n",
        "              freq * (2 * np.pi * t / (iterations - 1)) + self.offset\n",
        "          )\n",
        "\n",
        "\n",
        "  def Set_Value(self, robot, t):\n",
        "      # Send the motor command to the joint associated with this motor.\n",
        "      pyrosim.Set_Motor_For_Joint(\n",
        "          bodyIndex=robot.robotId,\n",
        "          jointName=self.jointName,\n",
        "          controlMode=p.POSITION_CONTROL,\n",
        "          targetPosition=self.motorValues[t],\n",
        "          maxForce=100\n",
        "      )\n",
        "\n",
        "\n",
        "  def Save_Values(self):\n",
        "      # Save the motor values vector to a file.\n",
        "      np.save(\"motor_\" + self.jointName + \".npy\", self.motorValues)"
      ]
    }
  ]
}