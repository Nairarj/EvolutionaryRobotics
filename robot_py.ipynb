{
  "nbformat": 4,
  "nbformat_minor": 0,
  "metadata": {
    "colab": {
      "provenance": [],
      "authorship_tag": "ABX9TyPu7hDua3GFa4hIvw506uAi",
      "include_colab_link": true
    },
    "kernelspec": {
      "name": "python3",
      "display_name": "Python 3"
    },
    "language_info": {
      "name": "python"
    }
  },
  "cells": [
    {
      "cell_type": "markdown",
      "metadata": {
        "id": "view-in-github",
        "colab_type": "text"
      },
      "source": [
        "<a href=\"https://colab.research.google.com/github/Nairarj/EvolutionaryRobotics/blob/neurons/robot_py.ipynb\" target=\"_parent\"><img src=\"https://colab.research.google.com/assets/colab-badge.svg\" alt=\"Open In Colab\"/></a>"
      ]
    },
    {
      "cell_type": "code",
      "execution_count": null,
      "metadata": {
        "id": "iDcN9mgtCMig"
      },
      "outputs": [],
      "source": [
        "#import statements\n",
        "import pybullet as p\n",
        "import pybullet_data\n",
        "import pyrosim.pyrosim as pyrosim\n",
        "\n",
        "from motor import MOTOR\n",
        "from sensor import SENSOR\n",
        "\n",
        "\n",
        "#robot.py\n",
        "class ROBOT:\n",
        "\n",
        "  def __init__(self):\n",
        "\n",
        "    #Create dictionary for motors\n",
        "    self.motors = {}\n",
        "    #Load robot and prepare tp simulate it\n",
        "    self.robotId = p.loadURDF(\"body.urdf\")\n",
        "    #Prepare simulation using the robot's UDRF ID\n",
        "    pyrosim.Prepare_To_Simulate(self.robotId)\n",
        "\n",
        "    #Prepare to sense\n",
        "    self.Prepare_To_Sense()\n",
        "\n",
        "    #Prepare the motors\n",
        "    self.Prepare_To_Act()\n",
        "\n",
        "  def Prepare_To_Sense(self):\n",
        "    #Create sensors dictionary\n",
        "    self.sensors = {}\n",
        "    for linkName in pyrosim.linkNamesToIndices:\n",
        "      self.sensors[linkName] = SENSOR(linkName)\n",
        "\n",
        "  def Sense(self, t):\n",
        "    # Iterate over all sensor instances and call their Get_Value method.\n",
        "    for sensor in self.sensors.values():\n",
        "        sensor.Get_Value(t)\n",
        "\n",
        "  def Prepare_To_Act(self):\n",
        "    # Create the motors dictionary.\n",
        "    self.motors = {}\n",
        "    # For each joint name in pyrosim.jointNamesToIndices, create a MOTOR instance.\n",
        "    for jointName in pyrosim.jointNamesToIndices:\n",
        "        self.motors[jointName] = MOTOR(jointName)\n",
        "\n",
        "\n",
        "\n",
        "  def Act(self, t):\n",
        "    for motor in self.motors.values():\n",
        "        motor.Set_Value(self, t)\n"
      ]
    }
  ]
}