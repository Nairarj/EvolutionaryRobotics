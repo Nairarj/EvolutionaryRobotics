{
  "nbformat": 4,
  "nbformat_minor": 0,
  "metadata": {
    "colab": {
      "provenance": [],
      "authorship_tag": "ABX9TyN73gk0Ar1qShWdzozJri7n",
      "include_colab_link": true
    },
    "kernelspec": {
      "name": "python3",
      "display_name": "Python 3"
    },
    "language_info": {
      "name": "python"
    }
  },
  "cells": [
    {
      "cell_type": "markdown",
      "metadata": {
        "id": "view-in-github",
        "colab_type": "text"
      },
      "source": [
        "<a href=\"https://colab.research.google.com/github/Nairarj/EvolutionaryRobotics/blob/neurons/sensor_py.ipynb\" target=\"_parent\"><img src=\"https://colab.research.google.com/assets/colab-badge.svg\" alt=\"Open In Colab\"/></a>"
      ]
    },
    {
      "cell_type": "code",
      "execution_count": null,
      "metadata": {
        "id": "Iypm9onP9tEe"
      },
      "outputs": [],
      "source": [
        "import pybullet as p\n",
        "import pybullet_data\n",
        "import numpy\n",
        "import pyrosim.pyrosim as pyrosim\n",
        "\n",
        "import constants as c\n",
        "\n",
        "#sensor.py\n",
        "class SENSOR:\n",
        "\n",
        "  def __init__(self, linkName):\n",
        "\n",
        "      # Save the link name in the instance.\n",
        "      self.linkName = linkName\n",
        "      # Create a sensor vector (filled with zeros).\n",
        "      self.values = np.zeros(iterations)\n",
        "\n",
        "  def Get_Value(self, t):\n",
        "      self.values[t] = pyrosim.Get_Touch_Sensor_Value_For_Link(self.linkName)\n",
        "\n",
        "      # Print the entire vector only at the final time step.\n",
        "      if t == iterations - 1:\n",
        "          print(f\"Sensor values for {self.linkName}: {self.values}\")\n",
        "\n",
        "\n",
        "  def Save_Values(self):\n",
        "      # Save the sensor values vector to a file.\n",
        "      np.save(\"sensor_\" + self.linkName + \".npy\", self.values)\n"
      ]
    }
  ]
}