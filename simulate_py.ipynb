{
  "nbformat": 4,
  "nbformat_minor": 0,
  "metadata": {
    "colab": {
      "provenance": [],
      "authorship_tag": "ABX9TyNNoAgH1bL8S5yTZrTu7/dG",
      "include_colab_link": true
    },
    "kernelspec": {
      "name": "python3",
      "display_name": "Python 3"
    },
    "language_info": {
      "name": "python"
    }
  },
  "cells": [
    {
      "cell_type": "markdown",
      "metadata": {
        "id": "view-in-github",
        "colab_type": "text"
      },
      "source": [
        "<a href=\"https://colab.research.google.com/github/Nairarj/EvolutionaryRobotics/blob/neurons/simulate_py.ipynb\" target=\"_parent\"><img src=\"https://colab.research.google.com/assets/colab-badge.svg\" alt=\"Open In Colab\"/></a>"
      ]
    },
    {
      "cell_type": "code",
      "execution_count": null,
      "metadata": {
        "id": "yni165F55W56"
      },
      "outputs": [],
      "source": [
        "import pybullet as p\n",
        "import time\n",
        "import pybullet_data\n",
        "import pyrosim.pyrosim as pyrosim\n",
        "import numpy\n",
        "import constants as c\n",
        "\n",
        "from simulation import SIMULATION\n",
        "#simulate.py\n",
        "simulation = SIMULATION()\n",
        "simulation.Run()\n"
      ]
    }
  ]
}