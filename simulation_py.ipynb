{
  "nbformat": 4,
  "nbformat_minor": 0,
  "metadata": {
    "colab": {
      "provenance": [],
      "authorship_tag": "ABX9TyMy768rwVxmG//CLGkvvQF9",
      "include_colab_link": true
    },
    "kernelspec": {
      "name": "python3",
      "display_name": "Python 3"
    },
    "language_info": {
      "name": "python"
    }
  },
  "cells": [
    {
      "cell_type": "markdown",
      "metadata": {
        "id": "view-in-github",
        "colab_type": "text"
      },
      "source": [
        "<a href=\"https://colab.research.google.com/github/Nairarj/EvolutionaryRobotics/blob/neurons/simulation_py.ipynb\" target=\"_parent\"><img src=\"https://colab.research.google.com/assets/colab-badge.svg\" alt=\"Open In Colab\"/></a>"
      ]
    },
    {
      "cell_type": "code",
      "execution_count": null,
      "metadata": {
        "id": "c6THfCiKYXVT"
      },
      "outputs": [],
      "source": [
        "#simulation.py\n",
        "class SIMULATION:\n",
        "\n",
        "  def __init__(self):\n",
        "\n",
        "    # physics parameters.\n",
        "    self.physicsClient = p.connect(p.DIRECT)\n",
        "    p.setAdditionalSearchPath(pybullet_data.getDataPath())\n",
        "    p.setGravity(0, 0, -9.8, self.physicsClient)\n",
        "\n",
        "    #creation of world and robot objects\n",
        "    self.world = WORLD()\n",
        "    self.robot = ROBOT()\n",
        "\n",
        "  def Run(self):\n",
        "\n",
        "    # camera parameters\n",
        "    cam_target_pos = [0, 0, 1.5]\n",
        "    cam_distance = 12.5\n",
        "    cam_yaw, cam_pitch, cam_roll = -50, -20, 0\n",
        "    cam_width, cam_height = 480, 368\n",
        "    cam_up, cam_up_axis_idx, cam_near_plane, cam_far_plane, cam_fov = [0, 0, 1], 2, 0.01, 100, 60\n",
        "\n",
        "\n",
        "\n",
        "    # Initialize video.\n",
        "    vid = imageio_ffmpeg.write_frames('vid.mp4', (cam_width, cam_height), fps=30)\n",
        "    vid.send(None) # The first frame of the video must be a null frame.\n",
        "\n",
        "    for t in range(iterations):\n",
        "      #current_target = targetAngles[t]\n",
        "\n",
        "      #backLegMotorValues[t] = current_target\n",
        "      #frontLegMotorValues[t] = current_target\n",
        "\n",
        "      #pyrosim.Set_Motor_For_Joint(bodyIndex = self.robotId, jointName = b\"Torso_BackLeg\", controlMode = p.POSITION_CONTROL, targetPosition = backLegMotorAngles[t], maxForce = 100)\n",
        "      #pyrosim.Set_Motor_For_Joint(bodyIndex = self.robotId, jointName = b\"Torso_FrontLeg\", controlMode = p.POSITION_CONTROL, targetPosition= frontLegMotorAngles[t], maxForce = 100)\n",
        "\n",
        "\n",
        "      # Create one image and add it to the video.\n",
        "      cam_view_matrix = p.computeViewMatrixFromYawPitchRoll(cam_target_pos, cam_distance, cam_yaw, cam_pitch, cam_roll, cam_up_axis_idx)\n",
        "      cam_projection_matrix = p.computeProjectionMatrixFOV(cam_fov, cam_width*1./cam_height, cam_near_plane, cam_far_plane)\n",
        "      image = p.getCameraImage(cam_width, cam_height,cam_view_matrix, cam_projection_matrix)[2][:, :, :3]\n",
        "      vid.send(np.ascontiguousarray(image))\n",
        "      cam_yaw = cam_yaw + 1\n",
        "\n",
        "      # Do physics stuff.\n",
        "      print(\"Loop index:\", t)\n",
        "      p.stepSimulation()\n",
        "      self.robot.Sense(t)\n",
        "      self.robot.Act(t)\n",
        "      time.sleep(1/300)\n",
        "\n",
        "    vid.close()\n",
        "  def __del__(self):\n",
        "    # Clean up: disconnect from PyBullet when the SIMULATION instance is destroyed.\n",
        "    p.disconnect()\n",
        "\n"
      ]
    }
  ]
}