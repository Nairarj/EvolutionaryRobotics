{
  "nbformat": 4,
  "nbformat_minor": 0,
  "metadata": {
    "colab": {
      "provenance": [],
      "authorship_tag": "ABX9TyOojSx8n7h/X0Z2g2u3ARS2",
      "include_colab_link": true
    },
    "kernelspec": {
      "name": "python3",
      "display_name": "Python 3"
    },
    "language_info": {
      "name": "python"
    }
  },
  "cells": [
    {
      "cell_type": "markdown",
      "metadata": {
        "id": "view-in-github",
        "colab_type": "text"
      },
      "source": [
        "<a href=\"https://colab.research.google.com/github/Nairarj/EvolutionaryRobotics/blob/neurons/world_py.ipynb\" target=\"_parent\"><img src=\"https://colab.research.google.com/assets/colab-badge.svg\" alt=\"Open In Colab\"/></a>"
      ]
    },
    {
      "cell_type": "code",
      "execution_count": null,
      "metadata": {
        "id": "LC4LmM9BBSD4"
      },
      "outputs": [],
      "source": [
        "import pybullet as p\n",
        "import pybullet_data\n",
        "import numpy\n",
        "import pyrosim.pyrosim as pyrosim\n",
        "\n",
        "#world.py\n",
        "class WORLD:\n",
        "\n",
        "  def __init__(self):\n",
        "\n",
        "    self.plane_id = p.loadURDF(\"plane.urdf\")\n",
        "    p.loadSDF(\"object.sdf\")\n"
      ]
    }
  ]
}